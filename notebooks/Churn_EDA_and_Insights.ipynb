{
 "cells": [
  {
   "cell_type": "markdown",
   "id": "85197d6a-c274-4750-a8e4-b147560fffee",
   "metadata": {},
   "source": [
    "# Customer Churn Prediction: Exploratory Data Analysis & Feature Engineering"
   ]
  },
  {
   "cell_type": "code",
   "execution_count": null,
   "id": "1730fc8f-389e-4737-b8a3-fa068029c3cb",
   "metadata": {},
   "outputs": [],
   "source": [
    "import pandas as pd\n",
    "import numpy as np\n",
    "import matplotlib.pyplot as plt\n",
    "import seaborn as sns\n",
    "\n",
    "# Set plot style\n",
    "sns.set_style(\"whitegrid\")\n",
    "plt.rcParams['figure.figsize'] = (10, 6) # Default plot size\n",
    "\n",
    "# Load the dataset (adjust path if needed, assuming notebook is in notebooks/ folder)\n",
    "df = pd.read_csv('../data/WA_Fn-UseC_-Telco-Customer-Churn.csv')"
   ]
  },
  {
   "cell_type": "code",
   "execution_count": null,
   "id": "cd4ef67d-7b32-4930-8606-c77c86d86a56",
   "metadata": {},
   "outputs": [],
   "source": [
    "df.head()\n",
    "df.info()\n",
    "df.describe(include='all') # Use include='all' to see categorical summaries too"
   ]
  },
  {
   "cell_type": "code",
   "execution_count": null,
   "id": "49149ca8-ced9-4d00-a838-793baa0e91f2",
   "metadata": {},
   "outputs": [],
   "source": [
    "# Example: Convert TotalCharges to numeric, coerce errors to NaN\n",
    "df['TotalCharges'] = pd.to_numeric(df['TotalCharges'], errors='coerce')\n",
    "\n",
    "# Handle missing TotalCharges (e.g., fill with median for simplicity in EDA)\n",
    "# In your actual script, you might drop these rows or use a more sophisticated imputation\n",
    "df['TotalCharges'].fillna(df['TotalCharges'].median(), inplace=True)\n",
    "\n",
    "# Drop CustomerID as it's not useful for modeling\n",
    "df.drop('customerID', axis=1, inplace=True)"
   ]
  },
  {
   "cell_type": "code",
   "execution_count": null,
   "id": "35259604-bddb-4e5e-96c6-f02bc50af081",
   "metadata": {},
   "outputs": [],
   "source": [
    "plt.figure(figsize=(15, 5))\n",
    "plt.subplot(1, 3, 1)\n",
    "sns.histplot(df['tenure'], kde=True)\n",
    "plt.title('Distribution of Tenure')\n",
    "\n",
    "plt.subplot(1, 3, 2)\n",
    "sns.histplot(df['MonthlyCharges'], kde=True)\n",
    "plt.title('Distribution of Monthly Charges')\n",
    "\n",
    "plt.subplot(1, 3, 3)\n",
    "sns.histplot(df['TotalCharges'], kde=True)\n",
    "plt.title('Distribution of Total Charges')\n",
    "plt.tight_layout()\n",
    "plt.show()"
   ]
  },
  {
   "cell_type": "code",
   "execution_count": null,
   "id": "9949a49a-e4d1-42ba-a30d-569095c80c3b",
   "metadata": {},
   "outputs": [],
   "source": [
    "plt.figure(figsize=(10, 6))\n",
    "sns.countplot(x='Contract', data=df, palette='viridis')\n",
    "plt.title('Customer Count by Contract Type')\n",
    "plt.show()\n",
    "# Repeat for other categorical features like 'InternetService', 'PaymentMethod', 'gender', etc."
   ]
  },
  {
   "cell_type": "code",
   "execution_count": null,
   "id": "b28624a5-cf0d-4576-bd51-6d9e3d3309db",
   "metadata": {},
   "outputs": [],
   "source": [
    "# Example: Churn rate by Contract Type\n",
    "plt.figure(figsize=(8, 5))\n",
    "sns.countplot(x='Contract', hue='Churn', data=df, palette='coolwarm')\n",
    "plt.title('Churn by Contract Type')\n",
    "plt.xlabel('Contract Type')\n",
    "plt.ylabel('Number of Customers')\n",
    "plt.show()"
   ]
  },
  {
   "cell_type": "code",
   "execution_count": null,
   "id": "86776b0f-1cf0-4cd6-a6a4-79d2ed7b447d",
   "metadata": {},
   "outputs": [],
   "source": [
    "# Example: Monthly Charges vs. Churn\n",
    "plt.figure(figsize=(8, 5))\n",
    "sns.boxplot(x='Churn', y='MonthlyCharges', data=df, palette='muted')\n",
    "plt.title('Monthly Charges vs. Churn')\n",
    "plt.show()"
   ]
  },
  {
   "cell_type": "code",
   "execution_count": null,
   "id": "3df04678-ebaa-4c0b-b645-1362526faaee",
   "metadata": {},
   "outputs": [],
   "source": [
    "# First, ensure 'Churn' is numeric (0/1) for correlation\n",
    "df_encoded_for_corr = df.copy()\n",
    "df_encoded_for_corr['Churn'] = df_encoded_for_corr['Churn'].map({'Yes': 1, 'No': 0})\n",
    "# Select only numerical columns for correlation matrix\n",
    "numerical_cols = df_encoded_for_corr.select_dtypes(include=np.number).columns\n",
    "\n",
    "plt.figure(figsize=(10, 8))\n",
    "sns.heatmap(df_encoded_for_corr[numerical_cols].corr(), annot=True, cmap='coolwarm', fmt=\".2f\")\n",
    "plt.title('Correlation Matrix of Numerical Features (and Churn)')\n",
    "plt.show()"
   ]
  },
  {
   "cell_type": "code",
   "execution_count": null,
   "id": "d2ae0cf8-0f01-4472-b61a-5f38f50a6622",
   "metadata": {},
   "outputs": [],
   "source": [
    "# Example from your script (simplified for notebook)\n",
    "df['MonthlyToTotalRatio'] = df['MonthlyCharges'] / df['TotalCharges']\n",
    "df['MonthlyToTotalRatio'].replace([np.inf, -np.inf], np.nan, inplace=True) # Handle division by zero\n",
    "df['MonthlyToTotalRatio'].fillna(0, inplace=True) # Or median/mean\n",
    "\n",
    "plt.figure(figsize=(8, 5))\n",
    "sns.boxplot(x='Churn', y='MonthlyToTotalRatio', data=df, palette='pastel')\n",
    "plt.title('Monthly to Total Charges Ratio vs. Churn')\n",
    "plt.show()"
   ]
  },
  {
   "cell_type": "markdown",
   "id": "435f3599-4661-4f40-b655-1b893ab0aa0e",
   "metadata": {},
   "source": [
    "## Data Preparation for Modeling\n",
    "\n",
    "Before feeding the data into machine learning models, the following final preparation steps were performed:\n",
    "- **One-Hot Encoding:** All remaining categorical features were converted into numerical format using one-hot encoding.\n",
    "- **Feature Scaling:** Numerical features were scaled using `StandardScaler` to ensure that no single feature dominates the model due to its scale."
   ]
  },
  {
   "cell_type": "markdown",
   "id": "29496651-e961-47e2-8c94-fa2cd6e74a4a",
   "metadata": {},
   "source": [
    "## Conclusion: Key Insights for Churn Prediction\n",
    "\n",
    "The Exploratory Data Analysis has provided crucial insights into the factors driving customer churn:\n",
    "1.  **Contract type (Month-to-month)** is a primary indicator of churn risk.\n",
    "2.  **Internet service type (Fiber Optic)** also correlates highly with churn.\n",
    "3.  Absence of **value-added services** like online security and tech support increases churn likelihood.\n",
    "4.  **Tenure** and **Monthly Charges** also play significant roles.\n",
    "\n",
    "These insights will be vital in guiding feature selection, model interpretation, and the formulation of targeted retention strategies."
   ]
  }
 ],
 "metadata": {
  "kernelspec": {
   "display_name": "Python 3 (ipykernel)",
   "language": "python",
   "name": "python3"
  },
  "language_info": {
   "codemirror_mode": {
    "name": "ipython",
    "version": 3
   },
   "file_extension": ".py",
   "mimetype": "text/x-python",
   "name": "python",
   "nbconvert_exporter": "python",
   "pygments_lexer": "ipython3",
   "version": "3.12.1"
  }
 },
 "nbformat": 4,
 "nbformat_minor": 5
}
